{
 "cells": [
  {
   "cell_type": "markdown",
   "id": "f58e4ba9-59b3-4e2c-81ec-9d374c8e0a27",
   "metadata": {},
   "source": [
    "# This is Python tutorial"
   ]
  },
  {
   "cell_type": "code",
   "execution_count": null,
   "id": "70465e61-096c-4fc3-b625-1102b0f8e34f",
   "metadata": {},
   "outputs": [],
   "source": [
    "import numpy as np"
   ]
  },
  {
   "cell_type": "code",
   "execution_count": null,
   "id": "e3ffc8b0-30d0-4ffe-86bd-02c6d4fe03cf",
   "metadata": {},
   "outputs": [],
   "source": [
    "a = np.array([1, 2, 3, 5, 7], dtype='i')"
   ]
  },
  {
   "cell_type": "code",
   "execution_count": null,
   "id": "762437d3-6d04-46d9-86a9-dd8763e83190",
   "metadata": {},
   "outputs": [],
   "source": [
    "b = np.array([2, 3, 5])"
   ]
  },
  {
   "cell_type": "code",
   "execution_count": null,
   "id": "4c887634-f098-4ed9-83f0-49b65026285a",
   "metadata": {},
   "outputs": [],
   "source": [
    "print(a)"
   ]
  },
  {
   "cell_type": "code",
   "execution_count": null,
   "id": "c7cf1b60-de30-49c9-b3a7-d2366d81afbd",
   "metadata": {},
   "outputs": [],
   "source": [
    "type(a)"
   ]
  },
  {
   "cell_type": "code",
   "execution_count": null,
   "id": "c7d0fb98-2e8e-40bf-bdb5-8082d3588696",
   "metadata": {},
   "outputs": [],
   "source": [
    "type(b)"
   ]
  },
  {
   "cell_type": "code",
   "execution_count": null,
   "id": "52a556ff-c95f-4799-ab0e-575c3ff304d2",
   "metadata": {},
   "outputs": [],
   "source": [
    "type(a)  # tells the type of \"a\""
   ]
  },
  {
   "cell_type": "code",
   "execution_count": null,
   "id": "de6a9332-f916-40db-8161-99db87e1d0e4",
   "metadata": {},
   "outputs": [],
   "source": [
    "a.dtype"
   ]
  },
  {
   "cell_type": "code",
   "execution_count": null,
   "id": "f6ffe474-e684-445e-ab31-0eb6c18b12bb",
   "metadata": {},
   "outputs": [],
   "source": [
    "a = np.array([[1,2,3], [4,5,6]])"
   ]
  },
  {
   "cell_type": "code",
   "execution_count": null,
   "id": "48d0272f-2ce5-45b0-ba5b-1c8573c5a9d5",
   "metadata": {},
   "outputs": [],
   "source": [
    "a.ndim # tells the dimention of \"a\"(array)"
   ]
  },
  {
   "cell_type": "code",
   "execution_count": null,
   "id": "7317be69-054f-448c-a118-deaeed1fea02",
   "metadata": {},
   "outputs": [],
   "source": [
    "a[0,2]"
   ]
  },
  {
   "cell_type": "code",
   "execution_count": null,
   "id": "a2425c20-1701-4e2b-af1d-196f861cd3ec",
   "metadata": {},
   "outputs": [],
   "source": [
    "b = np.array([[1,2,3], [4,5,6], [7,8,9]])"
   ]
  },
  {
   "cell_type": "code",
   "execution_count": null,
   "id": "3915c458-9abb-4fad-ba84-2554d760ae9f",
   "metadata": {},
   "outputs": [],
   "source": [
    "b.ndim"
   ]
  },
  {
   "cell_type": "code",
   "execution_count": null,
   "id": "9f9cebba-c336-4d00-bcac-6a3b9a80447e",
   "metadata": {},
   "outputs": [],
   "source": [
    "c = np.array([[[1,2,3], [4,5,6], [7,8,9]], [[0,2,3], [4,5,6], [7,8,9]]])"
   ]
  },
  {
   "cell_type": "code",
   "execution_count": null,
   "id": "211cc446-75b9-4643-a796-472b4bff0745",
   "metadata": {},
   "outputs": [],
   "source": [
    "c.ndim"
   ]
  },
  {
   "cell_type": "code",
   "execution_count": null,
   "id": "9e5bd66f-ab24-4fb7-83c2-f5e9526495a1",
   "metadata": {},
   "outputs": [],
   "source": [
    "c[1,0,0]"
   ]
  },
  {
   "cell_type": "code",
   "execution_count": null,
   "id": "22a028df-74d4-483c-8f1b-86c69c1e03d6",
   "metadata": {},
   "outputs": [],
   "source": [
    "c[1,0,1]"
   ]
  },
  {
   "cell_type": "code",
   "execution_count": null,
   "id": "a8373fe7-9cc5-462b-862b-3b79acb88a9a",
   "metadata": {},
   "outputs": [],
   "source": [
    "type(c)"
   ]
  },
  {
   "cell_type": "code",
   "execution_count": null,
   "id": "cabbae8e-3f27-40c5-b56c-d2aade6852e0",
   "metadata": {},
   "outputs": [],
   "source": [
    "c.shape # tells the shape of an array, output = (2, 3, 3), the first 2 means that there\n",
    "        # are 2 two dimention arrays, and 3 means three one dimention and the last \n",
    "        # 3 means that each one dimention array has 3 elements"
   ]
  },
  {
   "cell_type": "code",
   "execution_count": null,
   "id": "1daeec87-d577-46b3-81d5-015a3a4df733",
   "metadata": {},
   "outputs": [],
   "source": [
    "A = np.arange(0,100) # makes an array which contains elements from 0 to 99\n",
    "A = np.arange(0,100,2) # print an array which starts from 0 and jums two digists upto 100\n",
    "A"
   ]
  },
  {
   "cell_type": "code",
   "execution_count": null,
   "id": "e61504ac-0a69-4804-943c-a141250b11f6",
   "metadata": {},
   "outputs": [],
   "source": [
    "r = np.random.randint(1,100)\n",
    "print(r)"
   ]
  },
  {
   "cell_type": "code",
   "execution_count": null,
   "id": "9c78465c-6d02-4406-b074-eea6c16f4dce",
   "metadata": {},
   "outputs": [],
   "source": [
    "A = np.random.rand(1000)\n",
    "print(A)"
   ]
  },
  {
   "cell_type": "code",
   "execution_count": null,
   "id": "ffd0ed6a-6a60-46cd-b0c2-268a1e71be48",
   "metadata": {},
   "outputs": [],
   "source": [
    "import matplotlib.pyplot as plt"
   ]
  },
  {
   "cell_type": "code",
   "execution_count": null,
   "id": "43811800-96fb-46ad-add3-71eaf3fd3984",
   "metadata": {},
   "outputs": [],
   "source": [
    "plt.hist(A, bins = 100)"
   ]
  },
  {
   "cell_type": "code",
   "execution_count": null,
   "id": "fc23c34d-8063-41db-b1eb-66dd4a7857c9",
   "metadata": {},
   "outputs": [],
   "source": [
    "B = np.random.randn(100000)\n",
    "plt.hist(B, bins = 200)"
   ]
  },
  {
   "cell_type": "code",
   "execution_count": null,
   "id": "5cfba29b-58df-4c11-853d-9592377033a1",
   "metadata": {},
   "outputs": [],
   "source": [
    "c = np.random.rand(2,3)\n",
    "c.ndim"
   ]
  },
  {
   "cell_type": "code",
   "execution_count": null,
   "id": "ad7ffca1-5abe-41a0-9b07-dad4789ce3e6",
   "metadata": {},
   "outputs": [],
   "source": [
    "A = np.arange(100)\n",
    "B = A[3:10] #if do changes in B, the changes will also applies on A\n",
    "print(B)"
   ]
  },
  {
   "cell_type": "code",
   "execution_count": null,
   "id": "c5dbd193-c94a-4094-a2a9-6eb767679674",
   "metadata": {},
   "outputs": [],
   "source": [
    "B[0] = 169  #it will also change the elements in \"A\""
   ]
  },
  {
   "cell_type": "code",
   "execution_count": null,
   "id": "5669ac1a-7ff1-47b4-976c-c43d12302cef",
   "metadata": {},
   "outputs": [],
   "source": [
    "B = A[3:10].copy()  # this will now copy the elements to B, and will not act as above"
   ]
  },
  {
   "cell_type": "code",
   "execution_count": null,
   "id": "16ac1bb6-63be-48ac-9d68-801e7aadc3fb",
   "metadata": {},
   "outputs": [],
   "source": [
    "A[::5]"
   ]
  },
  {
   "cell_type": "code",
   "execution_count": null,
   "id": "aab14441-8fcc-4792-bc89-cccbb20a8740",
   "metadata": {},
   "outputs": [],
   "source": [
    "A[::-5]"
   ]
  },
  {
   "cell_type": "code",
   "execution_count": null,
   "id": "e14bfe65-8018-4b1c-97a6-a8a0040bc36b",
   "metadata": {},
   "outputs": [],
   "source": [
    "idx = np.argwhere(A== 169)[0][0] # returns the index of any number (eg 169)\n",
    "idx"
   ]
  },
  {
   "cell_type": "code",
   "execution_count": null,
   "id": "9d8359b3-981c-4d18-b5d0-8945a14525d0",
   "metadata": {},
   "outputs": [],
   "source": [
    "A[idx] = 3\n",
    "A"
   ]
  },
  {
   "cell_type": "code",
   "execution_count": null,
   "id": "70259856-11b2-4d47-b9d5-b41ffdaeb660",
   "metadata": {},
   "outputs": [],
   "source": [
    "A = np.round(10*np.random.rand(5,4)) # create 5x4 matrix, the elements in between 1 and 10 rounded\n",
    "A"
   ]
  },
  {
   "cell_type": "code",
   "execution_count": null,
   "id": "25d4e535-52f9-460b-b043-a0dd351659e5",
   "metadata": {},
   "outputs": [],
   "source": [
    "A[1,:] # accessing the whole 2nd row of a matrix\n",
    "A[:,1] # accessing the whole 2nd colomn of a matrix"
   ]
  },
  {
   "cell_type": "code",
   "execution_count": null,
   "id": "5f28a7a5-d686-4eae-9243-399105b7392f",
   "metadata": {},
   "outputs": [],
   "source": [
    "A.T # for doing transpose of a matrix\n",
    "import numpy.linalg as la   # for linear algebra"
   ]
  },
  {
   "cell_type": "code",
   "execution_count": null,
   "id": "13e15ccb-8741-4036-b335-85af05cea2ac",
   "metadata": {},
   "outputs": [],
   "source": [
    "la.inv(np.random.rand(3,3))  # returns the inverse of a matrix"
   ]
  },
  {
   "cell_type": "code",
   "execution_count": null,
   "id": "0f3685f2-5ee6-419a-95a7-71848a11c480",
   "metadata": {},
   "outputs": [],
   "source": [
    "A.sort(axis=0) # sort every column individually\n",
    "A.sort(axis=1) # sort every row individually\n",
    "A"
   ]
  },
  {
   "cell_type": "code",
   "execution_count": null,
   "id": "5d60ac12-83ee-4248-9410-bb162c1baf7a",
   "metadata": {},
   "outputs": [],
   "source": [
    "A = np.arange(100)\n",
    "B = A[[3,5,6]]  # copy to B\n",
    "B\n",
    "B[0] = -4   # this will not do changes in A, because its a copy not a view"
   ]
  },
  {
   "cell_type": "code",
   "execution_count": null,
   "id": "c398415a-bf2c-4231-a59a-ad3302da2a29",
   "metadata": {},
   "outputs": [],
   "source": [
    "B = A[A<40] # now B will contain all the elements that are less than 40\n",
    "B = A[A%2==0] # now B will contain all the even elements\n",
    "B = A[(A<40) & (A>30)]  # the symbol \"&\" is used for arrays\n",
    "B"
   ]
  },
  {
   "cell_type": "markdown",
   "id": "c0993157-b1b8-4489-9f68-d170fa054265",
   "metadata": {},
   "source": [
    "BROADCASTING"
   ]
  },
  {
   "cell_type": "code",
   "execution_count": 31,
   "id": "e14e790d-25ce-4124-8415-e589c50a8302",
   "metadata": {},
   "outputs": [
    {
     "data": {
      "text/plain": [
       "array([[7., 5., 2.],\n",
       "       [2., 1., 1.]])"
      ]
     },
     "execution_count": 31,
     "metadata": {},
     "output_type": "execute_result"
    }
   ],
   "source": [
    "A = np.round(10*np.random.rand(2,3))\n",
    "A"
   ]
  },
  {
   "cell_type": "code",
   "execution_count": 32,
   "id": "f2a3d15e-7d60-45dc-bb04-a5c6132e1eec",
   "metadata": {},
   "outputs": [
    {
     "data": {
      "text/plain": [
       "array([[10.,  8.,  5.],\n",
       "       [ 5.,  4.,  4.]])"
      ]
     },
     "execution_count": 32,
     "metadata": {},
     "output_type": "execute_result"
    }
   ],
   "source": [
    "A+3"
   ]
  },
  {
   "cell_type": "code",
   "execution_count": 33,
   "id": "68647d7f-41e5-4020-b594-c59462ffcc41",
   "metadata": {},
   "outputs": [
    {
     "data": {
      "text/plain": [
       "array([[7., 5., 2.],\n",
       "       [3., 2., 2.]])"
      ]
     },
     "execution_count": 33,
     "metadata": {},
     "output_type": "execute_result"
    }
   ],
   "source": [
    "A+(np.arange(2).reshape(2,1))"
   ]
  },
  {
   "cell_type": "code",
   "execution_count": 34,
   "id": "d13fb9cd-8ca0-4673-9fa6-222417b587e0",
   "metadata": {},
   "outputs": [
    {
     "data": {
      "text/plain": [
       "array([[4., 2.],\n",
       "       [6., 7.]])"
      ]
     },
     "execution_count": 34,
     "metadata": {},
     "output_type": "execute_result"
    }
   ],
   "source": [
    "B = np.round(10*np.random.rand(2,2))\n",
    "B\n"
   ]
  },
  {
   "cell_type": "code",
   "execution_count": null,
   "id": "a2ed52a2-cde5-433f-a736-b558548b52b8",
   "metadata": {},
   "outputs": [],
   "source": [
    "A"
   ]
  },
  {
   "cell_type": "code",
   "execution_count": null,
   "id": "cc20b9c6-eb3d-4154-8bfa-c1ddd2970bd9",
   "metadata": {},
   "outputs": [],
   "source": [
    "C = np.hstack((A,B)) # it will concatenate A and B\n",
    "C"
   ]
  },
  {
   "cell_type": "code",
   "execution_count": null,
   "id": "8c9fb3a0-36b5-4254-8b61-e7452b8225bb",
   "metadata": {},
   "outputs": [],
   "source": [
    "A = np.random.permutation(np.arange(10))\n",
    "A"
   ]
  },
  {
   "cell_type": "code",
   "execution_count": null,
   "id": "b10d9251-6947-4502-a6ff-4a005a003cb7",
   "metadata": {},
   "outputs": [],
   "source": [
    "A.sort() # or np.sort(A), it will also sort string array in alphabetic order\n",
    "A"
   ]
  },
  {
   "cell_type": "markdown",
   "id": "a3a271c0-41f4-4393-bf3c-2bb411fa3895",
   "metadata": {},
   "source": [
    "SPEED CHECKING"
   ]
  },
  {
   "cell_type": "code",
   "execution_count": null,
   "id": "1f5a5e80-92d5-425c-9262-f6fa8ed1a306",
   "metadata": {},
   "outputs": [],
   "source": [
    "B = np.random.rand(1000000)\n",
    "%timeit sum(B)\n",
    "%timeit np.sum(B) # or B.sum()  Universal sum function"
   ]
  },
  {
   "cell_type": "code",
   "execution_count": null,
   "id": "e0b32c58-954e-4cf5-b15f-a287b5caf491",
   "metadata": {},
   "outputs": [],
   "source": [
    "def mySum(G):\n",
    "    s=0\n",
    "    for x in G:\n",
    "        s += x\n",
    "    return s\n",
    "print(mySum(B))"
   ]
  },
  {
   "cell_type": "code",
   "execution_count": null,
   "id": "24e0d160-f2ab-4034-b7ef-2936d407169d",
   "metadata": {},
   "outputs": [],
   "source": [
    "%timeit mySum(B)"
   ]
  },
  {
   "cell_type": "code",
   "execution_count": null,
   "id": "cb184889-d83f-411f-a39e-84378192c4ce",
   "metadata": {},
   "outputs": [],
   "source": [
    "A = np.round(10*np.random.rand(2,2))\n",
    "A"
   ]
  },
  {
   "cell_type": "code",
   "execution_count": null,
   "id": "0718b327-c700-4c45-91dd-cef13fcd3bb6",
   "metadata": {},
   "outputs": [],
   "source": [
    "Determinant = A[0,0]*A[1,1] - A[0,1]*A[1,0]\n",
    "Determinant"
   ]
  },
  {
   "cell_type": "markdown",
   "id": "59689839-db46-42a7-b405-5b8c6ff41121",
   "metadata": {},
   "source": [
    "NUMPY PRACTICE QUESTIONS"
   ]
  },
  {
   "cell_type": "code",
   "execution_count": null,
   "id": "fa6a672a-5c72-46d8-a42e-9ca7cb672fac",
   "metadata": {},
   "outputs": [],
   "source": [
    "#Create a NumPy array of integers from 0 to 9.\n",
    "A = np.arange(0,10)\n",
    "A"
   ]
  },
  {
   "cell_type": "code",
   "execution_count": null,
   "id": "a8b58064-362c-4d9f-9173-2fbeb7f4762b",
   "metadata": {},
   "outputs": [],
   "source": [
    "#Convert the data type of the array to float32.\n",
    "A = A.astype(np.float32)\n",
    "A.dtype"
   ]
  },
  {
   "cell_type": "code",
   "execution_count": null,
   "id": "c76853a8-17c0-4b27-821e-c105f0c90485",
   "metadata": {},
   "outputs": [],
   "source": [
    "# Create two 1D arrays a = np.array([1, 2, 3]) and b = np.array([4, 5, 6]).\n",
    "# Perform element-wise addition, subtraction, multiplication, and division.\n",
    "# Calculate the dot product of the two arrays.\n",
    "A = np.array([1,2,3])\n",
    "B = np.array([4,5,6])\n",
    "\n",
    "Addition = A + B\n",
    "Subtraction = A - B\n",
    "Multiplication = A * B\n",
    "Division = A / B\n",
    "\n",
    "Dot_Product = 0\n",
    "for i in range(3):\n",
    "    Dot_Product += A[i] * B[i] \n",
    "\n",
    "print(Addition)\n",
    "print(Subtraction)\n",
    "print(Multiplication)\n",
    "print(Division)\n",
    "print(Dot_Product)\n"
   ]
  },
  {
   "cell_type": "code",
   "execution_count": null,
   "id": "2d75e9a6-a9a5-40cd-b3b5-8013fe601ce9",
   "metadata": {},
   "outputs": [],
   "source": [
    "# Create a 2D NumPy array of shape (4, 4) filled with random integers between 1 and 20.\n",
    "# Extract the first two rows and the last two columns of the array.\n",
    "# Replace all the elements in the third row with the number 5\n",
    "A = np.round(20*np.random.rand(4,4))  # np.random.randint(1,21, size=(4,4))\n",
    "print(A)\n",
    "\n",
    "print(A[:2, 2:])\n",
    "\n",
    "A[2] = 5\n",
    "print(A)"
   ]
  },
  {
   "cell_type": "code",
   "execution_count": null,
   "id": "25b34b77-e846-404a-986b-bdbe70452e1c",
   "metadata": {},
   "outputs": [],
   "source": [
    "# Create a 3x3 matrix and extract the diagonal elements.\n",
    "# Create a 3x4 matrix and extract all the elements from the second row.\n",
    "A = np.round(10*np.random.rand(3,3))\n",
    "print(A)\n",
    "Diagnol_Elements = np.diag(A)\n",
    "print(\"Diagnol Elements =\",Diagnol_Elements)\n",
    "\n",
    "B = np.round(10*np.random.rand(3,4))\n",
    "print(B)\n",
    "print(\"Secont row elements =\",B[1])"
   ]
  },
  {
   "cell_type": "code",
   "execution_count": null,
   "id": "5902a760-07e1-4599-bc2a-5c40acedb3b7",
   "metadata": {},
   "outputs": [],
   "source": [
    "# Create a 3x3 identity matrix.\n",
    "# Create a 3x3 matrix of random integers and find its transpose.\n",
    "# Calculate the inverse of the matrix.\n",
    "import numpy.linalg as la\n",
    "\n",
    "Identity_Matrix = np.eye(3) \n",
    "print(Identity_Matrix)\n",
    "\n",
    "A = np.random.randint(1,10,size = (3,3))\n",
    "print(A)\n",
    "print(A.T)\n",
    "\n",
    "inverse = la.inv(A)\n",
    "print(inverse)\n"
   ]
  },
  {
   "cell_type": "code",
   "execution_count": null,
   "id": "40d2f114-4ed2-46f8-907f-f9ff1a48d45d",
   "metadata": {},
   "outputs": [],
   "source": [
    "# Create a 1D array of 12 elements and reshape it into a 3x4 matrix.\n",
    "# Flatten the 3x4 matrix back into a 1D array.\n",
    "# Stack two 2D arrays vertically and horizontally.\n",
    "Arr = np.arange(0,12)\n",
    "print(Arr)\n",
    "reshaped = Arr.reshape(3,4)\n",
    "print(\"Reshaped to 3x4 Matrix\\n\",reshaped)\n",
    "\n",
    "Flatten = reshaped.reshape(1,12)  # or we can use \"reshaped.flatten()\"\n",
    "print(\"Flattened\",Flatten)\n",
    "\n",
    "A = np.array([[1,2],[3,4]])\n",
    "B = np.array([[5,6],[7,8]])\n",
    "\n",
    "vstacked = np.vstack((A,B))\n",
    "print(\"Vertical Stack\\n\",vstacked)\n",
    "\n",
    "hstacked = np.hstack((A,B))\n",
    "print(\"Horizontal Stack\\n\",hstacked)"
   ]
  },
  {
   "cell_type": "code",
   "execution_count": 43,
   "id": "84850ef1-c3e1-4b37-9c41-4624237f1163",
   "metadata": {},
   "outputs": [
    {
     "name": "stdout",
     "output_type": "stream",
     "text": [
      "[59 61 61 64 91 78 88 53 88 83 53 67 60 90 95 85 93 99 74 73 84 86 61 84\n",
      " 80 87 60 79 70 57 97 88 66 60 79 60 54 96 92 74 98 58 62 80 79 53 72 73\n",
      " 61 64 89 65]\n",
      "[[59 61 47 61 50  3 21 25 30 64 26  0 78  0 46 53  0  0 53 67 29 60 50 33\n",
      "   0  0  0 33  0  0 74 73  0 39  0 27 35 61  0 80  0 49 60 41  5 30 35 46\n",
      "  16 36 79 11 70 23 57 42 39  0  6  0  8  1 33 66 60  6 79 42 15 60 54 18\n",
      "   0 42  0  6 74  0 58 62 41  2 80 79 25 53 72  5 73 61 64 37 42 39  8  0\n",
      "  14 25 65  2]]\n"
     ]
    }
   ],
   "source": [
    "# Create a NumPy array with random integers between 1 and 100.\n",
    "# Use boolean indexing to extract all elements greater than 50.\n",
    "# Replace all elements greater than 80 with 0.\n",
    "\n",
    "Arr = np.random.randint(0,100,size = (1,100))\n",
    "\n",
    "print(Arr[Arr>50])\n",
    "\n",
    "Arr[Arr>80]=0\n",
    "print(Arr)"
   ]
  },
  {
   "cell_type": "code",
   "execution_count": null,
   "id": "f508b8bc-155f-414e-b466-56b5d14400e2",
   "metadata": {},
   "outputs": [
    {
     "name": "stdout",
     "output_type": "stream",
     "text": [
      "Matrix\n",
      " [[2 4 3]\n",
      " [0 4 3]\n",
      " [6 1 0]\n",
      " [8 1 7]]\n",
      "Array\n",
      " [[4 9 8]]\n",
      "Summation\n",
      " [[ 6 13 11]\n",
      " [ 4 13 11]\n",
      " [10 10  8]\n",
      " [12 10 15]]\n"
     ]
    }
   ],
   "source": [
    "# Create a 4x3 matrix and a 1x3 array.\n",
    "# Add the 1x3 array to each row of the 4x3 matrix using broadcasting.\n",
    "Matrix = np.random.randint(0,10,size=(4,3))\n",
    "Array = np.random.randint(0,10, size=(1,3))\n",
    "\n",
    "Sum = Matrix + Array\n",
    "\n",
    "print(\"Matrix\\n\", Matrix)\n",
    "print(\"Array\\n\", Array)\n",
    "print(\"Summation\\n\", Sum)"
   ]
  },
  {
   "cell_type": "code",
   "execution_count": null,
   "id": "4f71dcc6-42ab-4b31-8117-04ffa3db5552",
   "metadata": {},
   "outputs": [],
   "source": []
  }
 ],
 "metadata": {
  "kernelspec": {
   "display_name": "Python 3 (ipykernel)",
   "language": "python",
   "name": "python3"
  },
  "language_info": {
   "codemirror_mode": {
    "name": "ipython",
    "version": 3
   },
   "file_extension": ".py",
   "mimetype": "text/x-python",
   "name": "python",
   "nbconvert_exporter": "python",
   "pygments_lexer": "ipython3",
   "version": "3.11.7"
  }
 },
 "nbformat": 4,
 "nbformat_minor": 5
}
